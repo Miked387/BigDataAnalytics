{
  "nbformat": 4,
  "nbformat_minor": 0,
  "metadata": {
    "colab": {
      "name": "Colab PySpark - Hello World.ipynb",
      "provenance": [],
      "authorship_tag": "ABX9TyNzaILvpNVR/j0RD7vuo4tL",
      "include_colab_link": true
    },
    "kernelspec": {
      "name": "python3",
      "display_name": "Python 3"
    },
    "language_info": {
      "name": "python"
    }
  },
  "cells": [
    {
      "cell_type": "markdown",
      "metadata": {
        "id": "view-in-github",
        "colab_type": "text"
      },
      "source": [
        "<a href=\"https://colab.research.google.com/github/trajanov/BigDataAnalytics/blob/master/Starter-pack/Colab_PySpark_Hello_World.ipynb\" target=\"_parent\"><img src=\"https://colab.research.google.com/assets/colab-badge.svg\" alt=\"Open In Colab\"/></a>"
      ]
    },
    {
      "cell_type": "markdown",
      "source": [
        "Install PySpark"
      ],
      "metadata": {
        "id": "JQxGDH2F9WMy"
      }
    },
    {
      "cell_type": "code",
      "source": [
        "!pip install pyspark"
      ],
      "metadata": {
        "colab": {
          "base_uri": "https://localhost:8080/"
        },
        "id": "5iJOPfYP9Jma",
        "outputId": "259a9356-ad2e-4005-8efb-220df09840c8"
      },
      "execution_count": 1,
      "outputs": [
        {
          "output_type": "stream",
          "name": "stdout",
          "text": [
            "Collecting pyspark\n",
            "  Downloading pyspark-3.2.1.tar.gz (281.4 MB)\n",
            "\u001b[K     |████████████████████████████████| 281.4 MB 35 kB/s \n",
            "\u001b[?25hCollecting py4j==0.10.9.3\n",
            "  Downloading py4j-0.10.9.3-py2.py3-none-any.whl (198 kB)\n",
            "\u001b[K     |████████████████████████████████| 198 kB 49.7 MB/s \n",
            "\u001b[?25hBuilding wheels for collected packages: pyspark\n",
            "  Building wheel for pyspark (setup.py) ... \u001b[?25l\u001b[?25hdone\n",
            "  Created wheel for pyspark: filename=pyspark-3.2.1-py2.py3-none-any.whl size=281853642 sha256=88fcbb3960edaa6fa4a3873c2e7defe36f759bf4ab50617feef201aa848368e5\n",
            "  Stored in directory: /root/.cache/pip/wheels/9f/f5/07/7cd8017084dce4e93e84e92efd1e1d5334db05f2e83bcef74f\n",
            "Successfully built pyspark\n",
            "Installing collected packages: py4j, pyspark\n",
            "Successfully installed py4j-0.10.9.3 pyspark-3.2.1\n"
          ]
        }
      ]
    },
    {
      "cell_type": "markdown",
      "source": [
        "Initialize PySpark Session"
      ],
      "metadata": {
        "id": "O2JFDUqd9fC-"
      }
    },
    {
      "cell_type": "code",
      "source": [
        "from pyspark.sql import SparkSession\n",
        "spark = SparkSession.builder.getOrCreate()\n",
        "# Show the SparkSession variable\n",
        "spark"
      ],
      "metadata": {
        "colab": {
          "base_uri": "https://localhost:8080/",
          "height": 219
        },
        "id": "V2hUdZNK9J1r",
        "outputId": "17d633c7-da2e-464b-f661-1491be7e8a09"
      },
      "execution_count": 2,
      "outputs": [
        {
          "output_type": "execute_result",
          "data": {
            "text/plain": [
              "<pyspark.sql.session.SparkSession at 0x7f2b580b6a10>"
            ],
            "text/html": [
              "\n",
              "            <div>\n",
              "                <p><b>SparkSession - in-memory</b></p>\n",
              "                \n",
              "        <div>\n",
              "            <p><b>SparkContext</b></p>\n",
              "\n",
              "            <p><a href=\"http://ea9ab722d44b:4040\">Spark UI</a></p>\n",
              "\n",
              "            <dl>\n",
              "              <dt>Version</dt>\n",
              "                <dd><code>v3.2.1</code></dd>\n",
              "              <dt>Master</dt>\n",
              "                <dd><code>local[*]</code></dd>\n",
              "              <dt>AppName</dt>\n",
              "                <dd><code>pyspark-shell</code></dd>\n",
              "            </dl>\n",
              "        </div>\n",
              "        \n",
              "            </div>\n",
              "        "
            ]
          },
          "metadata": {},
          "execution_count": 2
        }
      ]
    },
    {
      "cell_type": "markdown",
      "source": [
        "Get some data"
      ],
      "metadata": {
        "id": "qUReFaFeTRD1"
      }
    },
    {
      "cell_type": "code",
      "source": [
        "# Use wget linux command to download the file and store it to the local folder\n",
        "!wget https://raw.githubusercontent.com/trajanov/BigDataAnalytics/master/data/netflix-subscription.csv"
      ],
      "metadata": {
        "colab": {
          "base_uri": "https://localhost:8080/"
        },
        "id": "C227f_ChMoHC",
        "outputId": "6cc01640-6dae-49f8-9ef0-8ad05a3cecc5"
      },
      "execution_count": 3,
      "outputs": [
        {
          "output_type": "stream",
          "name": "stdout",
          "text": [
            "--2022-03-13 17:33:13--  https://raw.githubusercontent.com/trajanov/BigDataAnalytics/master/data/netflix-subscription.csv\n",
            "Resolving raw.githubusercontent.com (raw.githubusercontent.com)... 185.199.108.133, 185.199.109.133, 185.199.110.133, ...\n",
            "Connecting to raw.githubusercontent.com (raw.githubusercontent.com)|185.199.108.133|:443... connected.\n",
            "HTTP request sent, awaiting response... 200 OK\n",
            "Length: 3020 (2.9K) [text/plain]\n",
            "Saving to: ‘netflix-subscription.csv’\n",
            "\n",
            "\rnetflix-subscriptio   0%[                    ]       0  --.-KB/s               \rnetflix-subscriptio 100%[===================>]   2.95K  --.-KB/s    in 0s      \n",
            "\n",
            "2022-03-13 17:33:13 (47.4 MB/s) - ‘netflix-subscription.csv’ saved [3020/3020]\n",
            "\n"
          ]
        }
      ]
    },
    {
      "cell_type": "markdown",
      "source": [
        "Create a PySpark DataFrame from the netflix-subscription.csv file"
      ],
      "metadata": {
        "id": "UW_vHFjHTlZp"
      }
    },
    {
      "cell_type": "code",
      "source": [
        "# Create a DataFrame\n",
        "df = spark.read.csv(\"netflix-subscription.csv\", header=True)\n",
        "# Show sample records\n",
        "df.show()"
      ],
      "metadata": {
        "colab": {
          "base_uri": "https://localhost:8080/"
        },
        "id": "bxTpuXXwM1qW",
        "outputId": "87cacf12-fd77-46a4-c347-6b6864369c2d"
      },
      "execution_count": 4,
      "outputs": [
        {
          "output_type": "stream",
          "name": "stdout",
          "text": [
            "+------------+----------+------------------+------------+----------+--------------------+-----------------------+----------------------+\n",
            "|Country_Code|   Country|Total_Library_Size|Num_TV_Shows|Num_Movies|Cost_Per_Month_Basic|Cost_Per_Month_Standard|Cost_Per_Month_Premium|\n",
            "+------------+----------+------------------+------------+----------+--------------------+-----------------------+----------------------+\n",
            "|          ar| Argentina|              4760|        3154|      1606|                3.74|                    6.3|                  9.26|\n",
            "|          au| Australia|              6114|        4050|      2064|                7.84|                  12.12|                 16.39|\n",
            "|          at|   Austria|              5640|        3779|      1861|                9.03|                  14.67|                 20.32|\n",
            "|          be|   Belgium|              4990|        3374|      1616|               10.16|                  15.24|                 20.32|\n",
            "|          bo|   Bolivia|              4991|        3155|      1836|                7.99|                  10.99|                 13.99|\n",
            "|          br|    Brazil|              4972|        3162|      1810|                4.61|                   7.11|                  9.96|\n",
            "|          bg|  Bulgaria|              6797|        4819|      1978|                9.03|                  11.29|                 13.54|\n",
            "|          ca|    Canada|              6239|        4311|      1928|                7.91|                  11.87|                 15.03|\n",
            "|          cl|     Chile|              4994|        3156|      1838|                7.07|                   9.91|                 12.74|\n",
            "|          co|  Colombia|              4991|        3156|      1835|                4.31|                   6.86|                  9.93|\n",
            "|          cr|Costa Rica|              4988|        3152|      1836|                8.99|                  12.99|                 15.99|\n",
            "|          hr|   Croatia|              2274|        1675|       599|                9.03|                  11.29|                 13.54|\n",
            "|          cz|   Czechia|              7325|        5234|      2091|                8.83|                  11.49|                 14.15|\n",
            "|          dk|   Denmark|              4558|        2978|      1580|                12.0|                  15.04|                  19.6|\n",
            "|          ec|   Ecuador|              4992|        3155|      1837|                7.99|                  10.99|                 13.99|\n",
            "|          ee|   Estonia|              6456|        4486|      1970|                9.03|                  11.29|                 13.54|\n",
            "|          fi|   Finland|              4045|        2638|      1407|                9.03|                  13.54|                 18.06|\n",
            "|          fr|    France|              5445|        3604|      1841|               10.16|                  15.24|                 20.32|\n",
            "|          de|   Germany|              5668|        3814|      1854|                9.03|                  14.67|                 20.32|\n",
            "|          gi| Gibraltar|              6167|        4079|      2088|                9.03|                  14.67|                 20.32|\n",
            "+------------+----------+------------------+------------+----------+--------------------+-----------------------+----------------------+\n",
            "only showing top 20 rows\n",
            "\n"
          ]
        }
      ]
    },
    {
      "cell_type": "markdown",
      "source": [
        "Simpel example for data processing"
      ],
      "metadata": {
        "id": "VeRL_8eaT7cQ"
      }
    },
    {
      "cell_type": "code",
      "source": [
        "# Filter the countires that have Basic Monthly subscruption to Netflix lower than $7\n",
        "# Sort the results \n",
        "# Select only \"Country\" and \"Cost_Per_Month_Basic\" columns\n",
        "# Show the results\n",
        "df.filter(df.Cost_Per_Month_Basic<7)\\\n",
        "  .sort(df.Cost_Per_Month_Basic.desc())\\\n",
        "  .select(\"Country\",\"Cost_Per_Month_Basic\")\\\n",
        "  .show()"
      ],
      "metadata": {
        "colab": {
          "base_uri": "https://localhost:8080/"
        },
        "id": "groOWpusNAqv",
        "outputId": "1ecc7fb6-ea40-45c9-e58d-4b185f4fc796"
      },
      "execution_count": 5,
      "outputs": [
        {
          "output_type": "stream",
          "name": "stdout",
          "text": [
            "+------------+--------------------+\n",
            "|     Country|Cost_Per_Month_Basic|\n",
            "+------------+--------------------+\n",
            "|      Mexico|                6.62|\n",
            "|South Africa|                6.26|\n",
            "|        Peru|                6.11|\n",
            "|     Ukraine|                5.64|\n",
            "|      Brazil|                4.61|\n",
            "|    Colombia|                4.31|\n",
            "|   Argentina|                3.74|\n",
            "|       India|                2.64|\n",
            "|      Turkey|                1.97|\n",
            "+------------+--------------------+\n",
            "\n"
          ]
        }
      ]
    }
  ]
}